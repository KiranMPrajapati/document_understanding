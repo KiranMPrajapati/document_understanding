{
 "cells": [
  {
   "cell_type": "code",
   "execution_count": null,
   "id": "14e4c500",
   "metadata": {},
   "outputs": [],
   "source": [
    "import os\n",
    "import pandas as pd\n",
    "import cv2\n",
    "import numpy as np\n",
    "import matplotlib.pyplot as plt\n",
    "plt.rcParams[\"figure.figsize\"] = (30,30)"
   ]
  },
  {
   "cell_type": "code",
   "execution_count": null,
   "id": "6b68168d",
   "metadata": {},
   "outputs": [],
   "source": [
    "cwd = os.getcwd()"
   ]
  },
  {
   "cell_type": "code",
   "execution_count": null,
   "id": "917d83af",
   "metadata": {},
   "outputs": [],
   "source": [
    "path = f\"{cwd}/dataset/train/\"\n",
    "csv_file = f\"{cwd}/hiertext/gt/hiertext.csv\"\n",
    "save_path = f\"{cwd}/dataset/dilated_train_images/\""
   ]
  },
  {
   "cell_type": "code",
   "execution_count": null,
   "id": "fcd1c608",
   "metadata": {},
   "outputs": [],
   "source": [
    "df = pd.read_csv(csv_file)"
   ]
  },
  {
   "cell_type": "code",
   "execution_count": null,
   "id": "15d8ac69",
   "metadata": {},
   "outputs": [],
   "source": [
    "for i, row in df.iterrows():\n",
    "    image_name = row[\"image_name\"]\n",
    "    image = cv2.imread(f\"{path}{image_name}\",0)\n",
    "    edge = cv2.Canny(image, 0, 255)\n",
    "    dilate = cv2.dilate(edge, kernel, iterations=1)\n",
    "    cv2.imwrite(f\"{save_path}{image_name}\", dilate)"
   ]
  },
  {
   "cell_type": "code",
   "execution_count": null,
   "id": "74921c7b",
   "metadata": {},
   "outputs": [],
   "source": []
  }
 ],
 "metadata": {
  "kernelspec": {
   "display_name": "Python 3 (ipykernel)",
   "language": "python",
   "name": "python3"
  },
  "language_info": {
   "codemirror_mode": {
    "name": "ipython",
    "version": 3
   },
   "file_extension": ".py",
   "mimetype": "text/x-python",
   "name": "python",
   "nbconvert_exporter": "python",
   "pygments_lexer": "ipython3",
   "version": "3.10.6"
  }
 },
 "nbformat": 4,
 "nbformat_minor": 5
}
